{
 "cells": [
  {
   "cell_type": "code",
   "execution_count": null,
   "metadata": {},
   "outputs": [],
   "source": [
    "import qiskit\n",
    "import ansatz\n",
    "%load_ext autoreload\n",
    "%autoreload 2\n",
    "\n",
    "from custom_lib import quantum_circuit_ctx_generator\n",
    "\n",
    "\n",
    "# Benchmark from quanvolutional1 to quanvolutional19\n",
    "\n",
    "# for num_qubits in range(3, 10):\n",
    "#     for i in range(1, 20):\n",
    "#         function_name = f'quanvolutional{i}'\n",
    "#         qc = qiskit.QuantumCircuit(num_qubits) \n",
    "#         qc = getattr(ansatz, function_name)(qc)\n",
    "\n",
    "function_name = f'quanvolutional{3}'\n",
    "qc = qiskit.QuantumCircuit(3) # Number of qubits\n",
    "qc = getattr(ansatz, function_name)(qc)\n",
    "qc.draw(output='mpl')\n",
    "\n",
    "# qc = qiskit.transpile(qc, basis_gates=['h', 's', 'cx', 'rx', 'ry', 'rz'], optimization_level=3)\n",
    "# qc.draw(output='mpl')"
   ]
  },
  {
   "cell_type": "code",
   "execution_count": null,
   "metadata": {},
   "outputs": [],
   "source": [
    "# convert to readable files\n",
    "\n",
    "from qimax import converter, constant\n",
    "\n",
    "texts = []\n",
    "texts.append(len(qc.data))\n",
    "for gate in qc.data:\n",
    "    name = gate.name.upper()\n",
    "    params = None\n",
    "    wires = converter.get_wires_of_gate(gate)\n",
    "    if name == 'CX':\n",
    "        type = 2\n",
    "    else:\n",
    "        type = 1\n",
    "        gate_entries = constant.constant_gate[name]\n",
    "        if name in ['RX', 'RY', 'RZ']:\n",
    "            params = gate.params[0]\n",
    "            gate_entries = gate_entries(params)\n",
    "    texts.append(type)\n",
    "    if type == 2:\n",
    "        texts.append(\"{\" + str(wires[0]) + \", \"+ str(wires[1]) + \"}\")\n",
    "    else:\n",
    "        texts.append(wires[0])\n",
    "        texts.append(gate_entries[0][0])\n",
    "        texts.append(gate_entries[0][1])\n",
    "        texts.append(gate_entries[1][0])\n",
    "        texts.append(gate_entries[1][1])\n",
    "\n",
    "with open('output.txt', 'w') as f:\n",
    "    for item in texts:\n",
    "        f.write(\"%s\\n\" % item)"
   ]
  },
  {
   "cell_type": "code",
   "execution_count": null,
   "metadata": {},
   "outputs": [],
   "source": [
    "#  RESULT FROM QISKIT\n",
    "qc_qiskit = (qiskit.quantum_info.Statevector.from_instruction(qc).data)\n",
    "print(qc_qiskit)"
   ]
  },
  {
   "cell_type": "code",
   "execution_count": null,
   "metadata": {},
   "outputs": [],
   "source": [
    "# # Calculate error\n",
    "\n",
    "import numpy as np\n",
    "\n",
    "def fidelity(state1: np.ndarray, state2: np.ndarray):\n",
    "    state1 = np.expand_dims(state1, axis=0)\n",
    "    state2 = np.expand_dims(state2, axis=0)\n",
    "    return (np.abs(np.inner(np.conjugate(state1), state2))**2)[0][0]\n",
    "\n",
    "\n",
    "def mse(state1: np.ndarray, state2: np.ndarray):\n",
    "    return np.mean(np.abs(state1 - state2)**2)\n",
    "\n",
    "qc_fpga = np.array([0,1,2,3,4,5,6,7])\n",
    "print(fidelity(qc_qiskit, qc_fpga))\n",
    "print(mse(qc_qiskit, qc_fpga))"
   ]
  }
 ],
 "metadata": {
  "kernelspec": {
   "display_name": "Python 3",
   "language": "python",
   "name": "python3"
  },
  "language_info": {
   "codemirror_mode": {
    "name": "ipython",
    "version": 3
   },
   "file_extension": ".py",
   "mimetype": "text/x-python",
   "name": "python",
   "nbconvert_exporter": "python",
   "pygments_lexer": "ipython3",
   "version": "3.13.1"
  }
 },
 "nbformat": 4,
 "nbformat_minor": 2
}
