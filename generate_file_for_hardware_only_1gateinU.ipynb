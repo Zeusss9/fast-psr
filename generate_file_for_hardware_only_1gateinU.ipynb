{
 "cells": [
  {
   "cell_type": "code",
   "execution_count": 1,
   "metadata": {},
   "outputs": [],
   "source": [
    "import numpy as np\n",
    "%load_ext autoreload\n",
    "%autoreload 2\n",
    "\n",
    "\n",
    "import qiskit\n",
    "from qimax import converter, constant\n",
    "num_qubits = 3\n",
    "qc = qiskit.QuantumCircuit(num_qubits)\n",
    "qc.rz(0.3, 0)\n",
    "qc.rz(0.4, 1)\n",
    "qc.cx(0, 1)\n",
    "qc.h(2)\n",
    "qc.h(0)\n",
    "qc.rx(0.5, 1)\n",
    "qc.h(2)\n",
    "qc.cx(0, 1)\n",
    "qc.rz(0.5, 0)\n",
    "qc.h(2)\n",
    "from qimax import converter, circuit, splitter\n",
    "\n",
    "texts = []\n",
    "texts.append(len(qc.data))\n",
    "for gate in qc.data:\n",
    "    name = gate.name.upper()\n",
    "    params = None\n",
    "    wires = converter.get_wires_of_gate(gate)\n",
    "    if name == 'CX':\n",
    "        type = 2\n",
    "    else:\n",
    "        type = 1\n",
    "        gate_entries = constant.constant_gate[name]\n",
    "        if name in ['RX', 'RY', 'RZ']:\n",
    "            params = gate.params[0]\n",
    "            gate_entries = gate_entries(params)\n",
    "    texts.append(type)\n",
    "    if type == 2:\n",
    "        texts.append(wires[0])\n",
    "        texts.append(wires[1])\n",
    "    else:\n",
    "        texts.append(wires[0])\n",
    "        texts.append(gate_entries[0][0])\n",
    "        texts.append(gate_entries[0][1])\n",
    "        texts.append(gate_entries[1][0])\n",
    "        texts.append(gate_entries[1][1])\n",
    "\n",
    "with open('output.txt', 'w') as f:\n",
    "    for item in texts:\n",
    "        f.write(\"%s\\n\" % item)"
   ]
  },
  {
   "cell_type": "code",
   "execution_count": 22,
   "metadata": {},
   "outputs": [
    {
     "name": "stdout",
     "output_type": "stream",
     "text": [
      "[ 0.39983896-0.27354455j -0.01234959-0.12308398j -0.06984739-0.10209565j\n",
      "  0.48203595-0.04836492j  0.39983896-0.27354455j -0.01234959-0.12308398j\n",
      " -0.06984739-0.10209565j  0.48203595-0.04836492j]\n"
     ]
    }
   ],
   "source": [
    "#  RESULT FROM QISKIT\n",
    "print(qiskit.quantum_info.Statevector.from_instruction(qc).data)"
   ]
  },
  {
   "cell_type": "code",
   "execution_count": 2,
   "metadata": {},
   "outputs": [
    {
     "name": "stdout",
     "output_type": "stream",
     "text": [
      "The autoreload extension is already loaded. To reload it, use:\n",
      "  %reload_ext autoreload\n",
      "[0.70710678+0.j 0.70710678+0.j 0.        +0.j 0.        +0.j\n",
      " 0.        +0.j 0.        +0.j 0.        +0.j 0.        +0.j]\n",
      "[('H', -999, [0]), ['I', -999, [1]], ['I', -999, [2]]]\n"
     ]
    }
   ],
   "source": [
    "import numpy as np\n",
    "%load_ext autoreload\n",
    "%autoreload 2\n",
    "\n",
    "import qiskit\n",
    "import qiskit.quantum_info\n",
    "\n",
    "num_qubits = 3\n",
    "qc = qiskit.QuantumCircuit(num_qubits)\n",
    "qc.h(0)\n",
    "print(qiskit.quantum_info.Statevector.from_instruction(qc).data)\n",
    "from qimax import converter, circuit, splitter\n",
    "\n",
    "\n",
    "qcs = splitter.qc_to_qcs(qc)\n",
    "gatess = converter.qcs_to_gatess(qcs)\n",
    "gatess_with_I = converter.gatess_to_gatess_with_I(gatess, num_qubits)\n",
    "\n",
    "for u in gatess_with_I:\n",
    "    print(u)\n",
    "\n",
    "# CONVERT QISKIT CIRCUIT TO STR\n",
    "strs = converter.gatess_to_str(gatess_with_I) \n",
    "with open('output2.txt', 'w') as f:\n",
    "    for item in strs:\n",
    "        f.write(\"%s\\n\" % item)"
   ]
  }
 ],
 "metadata": {
  "kernelspec": {
   "display_name": "Python 3",
   "language": "python",
   "name": "python3"
  },
  "language_info": {
   "codemirror_mode": {
    "name": "ipython",
    "version": 3
   },
   "file_extension": ".py",
   "mimetype": "text/x-python",
   "name": "python",
   "nbconvert_exporter": "python",
   "pygments_lexer": "ipython3",
   "version": "3.13.1"
  }
 },
 "nbformat": 4,
 "nbformat_minor": 2
}
